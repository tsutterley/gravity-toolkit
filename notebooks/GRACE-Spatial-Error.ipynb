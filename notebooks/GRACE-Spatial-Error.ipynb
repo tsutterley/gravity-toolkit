{
 "cells": [
  {
   "cell_type": "markdown",
   "metadata": {},
   "source": [
    "## GRACE/GRACE-FO Error Visualization Program\n",
    "\n",
    "This notebook uses standard Python tools to demonstrate visualization of the estimated spherical harmonic errors Gravity Recovery and Climate Experiment (GRACE) and the GRACE Follow-On (GRACE-FO) Level-2 products.\n",
    "\n",
    "This notebook uses Jupyter widgets to set parameters for visualizing the GRACE/GRACE-FO Level-2 products as spherical harmonics.\n",
    "The widgets can be installed as described below.  \n",
    "```bash\n",
    "pip3 install --user ipywidgets\n",
    "jupyter nbextension enable --py --user widgetsnbextension\n",
    "jupyter-notebook\n",
    "```"
   ]
  },
  {
   "cell_type": "markdown",
   "metadata": {},
   "source": [
    "### Load necessary modules for running the notebook"
   ]
  },
  {
   "cell_type": "code",
   "execution_count": null,
   "metadata": {},
   "outputs": [],
   "source": [
    "import numpy as np\n",
    "import matplotlib\n",
    "matplotlib.rcParams['mathtext.default'] = 'regular'\n",
    "import matplotlib.pyplot as plt\n",
    "import cartopy.crs as ccrs\n",
    "import ipywidgets\n",
    "\n",
    "import gravity_toolkit.tools\n",
    "import gravity_toolkit.utilities\n",
    "from gravity_toolkit.grace_input_months import grace_input_months\n",
    "from gravity_toolkit.harmonics import harmonics\n",
    "from gravity_toolkit.spatial import spatial\n",
    "from gravity_toolkit.read_love_numbers import read_love_numbers\n",
    "from gravity_toolkit.units import units\n",
    "from gravity_toolkit.plm_holmes import plm_holmes\n",
    "from gravity_toolkit.gauss_weights import gauss_weights\n",
    "from gravity_toolkit.degree_amplitude import degree_amplitude\n",
    "from gravity_toolkit.tssmooth import tssmooth"
   ]
  },
  {
   "cell_type": "markdown",
   "metadata": {},
   "source": [
    "### Set the GRACE/GRACE-FO Data Directory\n",
    "Directory should contain:  \n",
    "- Technical notes with SLR coefficients  \n",
    "- Subdirectory with geocenter coefficients  \n",
    "- Subdirectories for each processing center  "
   ]
  },
  {
   "cell_type": "code",
   "execution_count": null,
   "metadata": {},
   "outputs": [],
   "source": [
    "# set the directory with GRACE/GRACE-FO data\n",
    "# update local data with PO.DAAC https servers\n",
    "widgets = gravity_toolkit.tools.widgets()\n",
    "ipywidgets.VBox([\n",
    "    widgets.directory,\n",
    "    widgets.update\n",
    "])"
   ]
  },
  {
   "cell_type": "markdown",
   "metadata": {},
   "source": [
    "### Update Data in Directory"
   ]
  },
  {
   "cell_type": "code",
   "execution_count": null,
   "metadata": {},
   "outputs": [],
   "source": [
    "# if updating the local data\n",
    "if widgets.update.value:\n",
    "    # run podaac sync program to get latest data\n",
    "    !podaac_grace_sync.py --directory=$widgets.base_directory\n",
    "    # run GRACE date program to verify months\n",
    "    !run_grace_date.py --directory=$widgets.base_directory --verbose\n",
    "    # get geocenter data from Sutterley and Velicogna (2019)\n",
    "    gravity_toolkit.utilities.from_figshare(widgets.base_directory)"
   ]
  },
  {
   "cell_type": "markdown",
   "metadata": {},
   "source": [
    "### Set GRACE/GRACE-FO Parameters\n",
    "These parameters describe the specific GRACE/GRACE-FO product and the months of data to read  \n",
    "\n",
    "- GRACE/GRACE-FO Processing Center\n",
    "    * CSR: University of Texas Center for Space Research  \n",
    "    * GFZ: German Research Centre for Geosciences (GeoForschungsZentrum)\n",
    "    * JPL: Jet Propulsion Laboratory    \n",
    "    * CNES: French Centre National D'Etudes Spatiales\n",
    "- GRACE/GRACE-FO Data Release\n",
    "- GRACE/GRACE-FO Data Product\n",
    "    * GAA: non-tidal atmospheric correction  \n",
    "    * GAB: non-tidal oceanic correction  \n",
    "    * GAC: combined non-tidal atmospheric and oceanic correction  \n",
    "    * GAD: GRACE/GRACE-FO ocean bottom pressure product  \n",
    "    * GSM: corrected monthly GRACE/GRACE-FO static field product\n",
    "- GRACE/GRACE-FO Date Range"
   ]
  },
  {
   "cell_type": "code",
   "execution_count": null,
   "metadata": {
    "scrolled": true
   },
   "outputs": [],
   "source": [
    "# update widgets\n",
    "widgets.select_product()\n",
    "# display widgets for setting GRACE/GRACE-FO parameters\n",
    "ipywidgets.VBox([\n",
    "    widgets.center,\n",
    "    widgets.release,\n",
    "    widgets.product,\n",
    "    widgets.months\n",
    "])"
   ]
  },
  {
   "cell_type": "markdown",
   "metadata": {},
   "source": [
    "### Set Parameters for Reading GRACE/GRACE-FO Data\n",
    "These parameters describe processing steps and corrections to be applied when reading the GRACE/GRACE-FO data\n",
    "\n",
    "- Maximum Degree and Order\n",
    "- Geocenter product (Degree 1)\n",
    "- Oblateness product (<i>C</i><sub>20</sub>)\n",
    "- Figure axis product (<i>C</i><sub>21</sub> and <i>S</i><sub>21</sub>)\n",
    "- Azimuthal dependence product (<i>C</i><sub>22</sub> and <i>S</i><sub>22</sub>)\n",
    "- Low Degree Zonal products (<i>C</i><sub>30</sub>, <i>C</i><sub>40</sub> and <i>C</i><sub>50</sub>)\n",
    "- Pole Tide Correction from [Wahr et al. (2015)](https://doi.org/10.1002/2015JB011986)  \n",
    "- Atmospheric Correction as described in [Fagiolini et al. (2015)](https://doi.org/10.1093/gji/ggv276)  "
   ]
  },
  {
   "cell_type": "code",
   "execution_count": null,
   "metadata": {},
   "outputs": [],
   "source": [
    "# update widgets\n",
    "widgets.select_options()\n",
    "# display widgets for setting GRACE/GRACE-FO read parameters\n",
    "ipywidgets.VBox([\n",
    "    widgets.lmax,\n",
    "    widgets.mmax,\n",
    "    widgets.geocenter,\n",
    "    widgets.C20,\n",
    "    widgets.CS21,\n",
    "    widgets.CS22,\n",
    "    widgets.C30,\n",
    "    widgets.C40,\n",
    "    widgets.C50,\n",
    "    widgets.pole_tide,\n",
    "    widgets.atm,\n",
    "])"
   ]
  },
  {
   "cell_type": "markdown",
   "metadata": {},
   "source": [
    "### Read GRACE/GRACE-FO data\n",
    "This step extracts the parameters chosen above and then reads the GRACE/GRACE-FO data applying the specified procedures  "
   ]
  },
  {
   "cell_type": "code",
   "execution_count": null,
   "metadata": {},
   "outputs": [],
   "source": [
    "# extract values from widgets\n",
    "PROC = widgets.center.value\n",
    "DREL = widgets.release.value\n",
    "DSET = widgets.product.value\n",
    "months = [int(m) for m in widgets.months.value]\n",
    "LMAX = widgets.lmax.value\n",
    "MMAX = widgets.mmax.value\n",
    "DEG1 = widgets.geocenter.value\n",
    "SLR_C20 = widgets.C20.value\n",
    "SLR_21 = widgets.CS21.value\n",
    "SLR_22 = widgets.CS22.value\n",
    "SLR_C30 = widgets.C30.value\n",
    "SLR_C40 = widgets.C40.value\n",
    "SLR_C50 = widgets.C50.value\n",
    "POLE_TIDE = widgets.pole_tide.value\n",
    "ATM = widgets.atm.value\n",
    "\n",
    "# read GRACE/GRACE-FO data for parameters\n",
    "start_mon = np.min(months)\n",
    "end_mon = np.max(months)\n",
    "missing = sorted(set(np.arange(start_mon,end_mon+1)) - set(months))\n",
    "Ylms = grace_input_months(widgets.base_directory, PROC, DREL, DSET,\n",
    "    LMAX, start_mon, end_mon, missing, SLR_C20, DEG1, MMAX=MMAX,\n",
    "    SLR_21=SLR_21, SLR_22=SLR_22, SLR_C30=SLR_C30, SLR_C40=SLR_C40,\n",
    "    SLR_C50=SLR_C50, POLE_TIDE=POLE_TIDE, ATM=ATM)\n",
    "# create harmonics object and remove mean\n",
    "GRACE_Ylms = harmonics().from_dict(Ylms)\n",
    "GRACE_Ylms.mean(apply=True)\n",
    "# number of time steps\n",
    "nt = len(months)"
   ]
  },
  {
   "cell_type": "markdown",
   "metadata": {},
   "source": [
    "### Set Parameters to Convert to Spatial Error Maps\n",
    "These parameters specify corrections and filtering steps for converting to the spatial domain at a specified grid spacing  \n",
    "\n",
    "- Gaussian Smoothing Radius in kilometers  \n",
    "- Filter (destripe) harmonics [(Swenson and Wahr, 2006)](https://doi.org/10.1029/2005GL025285)  \n",
    "- Spatial degree spacing  \n",
    "- Spatial degree interval  \n",
    "    1) (-180:180,90:-90)  \n",
    "    2) (degree spacing)/2  "
   ]
  },
  {
   "cell_type": "code",
   "execution_count": null,
   "metadata": {},
   "outputs": [],
   "source": [
    "# update widgets\n",
    "widgets.select_corrections()\n",
    "# display widgets for setting GRACE/GRACE-FO corrections parameters\n",
    "ipywidgets.VBox([\n",
    "    widgets.gaussian,\n",
    "    widgets.destripe,\n",
    "    widgets.spacing,\n",
    "    widgets.interval])"
   ]
  },
  {
   "cell_type": "markdown",
   "metadata": {},
   "source": [
    "### Estimate GRACE/GRACE-FO errors and convert to spatial domain\n",
    "\n",
    "- Set output grid domain  \n",
    "- Calculate Fully-Normalized Legendre Polynomials  \n",
    "- Calculate coefficients for converting to the output units  \n",
    "- Convert errors from the spherical harmonic domain into the spatial domain  "
   ]
  },
  {
   "cell_type": "code",
   "execution_count": null,
   "metadata": {},
   "outputs": [],
   "source": [
    "# Output spatial data\n",
    "grid = spatial()\n",
    "# Output degree spacing\n",
    "dlon = widgets.spacing.value\n",
    "dlat = widgets.spacing.value\n",
    "# Output Degree Interval\n",
    "INTERVAL = widgets.interval.index + 1\n",
    "if (INTERVAL == 1):\n",
    "    # (-180:180,90:-90)\n",
    "    nlon = np.int64((360.0/dlon)+1.0)\n",
    "    nlat = np.int64((180.0/dlat)+1.0)\n",
    "    grid.lon = -180 + dlon*np.arange(0,nlon)\n",
    "    grid.lat = 90.0 - dlat*np.arange(0,nlat)\n",
    "elif (INTERVAL == 2):\n",
    "    # (Degree spacing)/2\n",
    "    grid.lon = np.arange(-180+dlon/2.0,180+dlon/2.0,dlon)\n",
    "    grid.lat = np.arange(90.0-dlat/2.0,-90.0-dlat/2.0,-dlat)\n",
    "    nlon = len(grid.lon)\n",
    "    nlat = len(grid.lat)\n",
    "# update spacing and dimensions\n",
    "grid.update_spacing()\n",
    "grid.update_extents()\n",
    "grid.update_dimensions()\n",
    "\n",
    "# Computing plms for converting to spatial domain\n",
    "theta = (90.0-grid.lat)*np.pi/180.0\n",
    "PLM, dPLM = plm_holmes(LMAX, np.cos(theta))\n",
    "# square of legendre polynomials truncated to order MMAX\n",
    "mm = np.arange(0,MMAX+1)\n",
    "PLM2 = PLM[:,mm,:]**2\n",
    "# Calculating cos(m*phi)^2 and sin(m*phi)^2\n",
    "phi = grid.lon[np.newaxis,:]*np.pi/180.0\n",
    "ccos = np.cos(np.dot(mm[:,np.newaxis],phi))**2\n",
    "ssin = np.sin(np.dot(mm[:,np.newaxis],phi))**2\n",
    "    \n",
    "# read load love numbers file\n",
    "# PREM outputs from Han and Wahr (1995)\n",
    "# https://doi.org/10.1111/j.1365-246X.1995.tb01819.x\n",
    "love_numbers_file = gravity_toolkit.utilities.get_data_path(['data','love_numbers'])\n",
    "header = 2\n",
    "columns = ['l','hl','kl','ll']\n",
    "# LMAX of load love numbers from Han and Wahr (1995) is 696.\n",
    "# from Wahr (2007) linearly interpolating kl works\n",
    "# however, as we are linearly extrapolating out, do not make\n",
    "# LMAX too much larger than 696\n",
    "# read arrays of kl, hl, and ll Love Numbers\n",
    "hl,kl,ll = read_love_numbers(love_numbers_file, LMAX=LMAX, HEADER=header,\n",
    "    COLUMNS=columns, REFERENCE='CF', FORMAT='tuple')\n",
    "\n",
    "# gaussian smoothing radius in km (Jekeli, 1981)\n",
    "RAD = widgets.gaussian.value\n",
    "if (RAD != 0):\n",
    "    wt = 2.0*np.pi*gauss_weights(RAD,LMAX)\n",
    "else:\n",
    "    # else = 1\n",
    "    wt = np.ones((LMAX+1))\n",
    "\n",
    "# destriping the GRACE/GRACE-FO harmonics\n",
    "if widgets.destripe.value:\n",
    "    Ylms = GRACE_Ylms.destripe()\n",
    "else:\n",
    "    Ylms = GRACE_Ylms.copy()\n",
    "\n",
    "# dfactor is the degree dependent coefficients\n",
    "# for converting to spherical harmonic output units\n",
    "# mmwe, millimeters water equivalent\n",
    "dfactor = units(lmax=LMAX).harmonic(hl,kl,ll).mmwe\n",
    "# units strings for output plots\n",
    "unit_label = 'mm'\n",
    "unit_name = 'Equivalent Water Thickness'\n",
    "\n",
    "# Delta coefficients of GRACE time series (Error components)\n",
    "delta_Ylms = harmonics(lmax=LMAX,mmax=MMAX)\n",
    "delta_Ylms.clm = np.zeros((LMAX+1,MMAX+1))\n",
    "delta_Ylms.slm = np.zeros((LMAX+1,MMAX+1))\n",
    "# Smoothing Half-Width (CNES is a 10-day solution)\n",
    "# All other solutions are monthly solutions (HFWTH for annual = 6)\n",
    "if ((PROC == 'CNES') and (DREL in ('RL01','RL02'))):\n",
    "    HFWTH = 19\n",
    "else:\n",
    "    HFWTH = 6\n",
    "# Equal to the noise of the smoothed time-series\n",
    "# for each spherical harmonic order\n",
    "for m in range(0,MMAX+1):# MMAX+1 to include MMAX\n",
    "    # for each spherical harmonic degree\n",
    "    for l in range(m,LMAX+1):# LMAX+1 to include LMAX\n",
    "        # Delta coefficients of GRACE time series\n",
    "        for cs,csharm in enumerate(['clm','slm']):\n",
    "            # calculate GRACE Error (Noise of smoothed time-series)\n",
    "            # With Annual and Semi-Annual Terms\n",
    "            val1 = getattr(Ylms, csharm)\n",
    "            smth = tssmooth(Ylms.time, val1[l,m,:], HFWTH=HFWTH)\n",
    "            # number of smoothed points\n",
    "            nsmth = len(smth['data'])\n",
    "            tsmth = np.mean(smth['time'])\n",
    "            # GRACE delta Ylms\n",
    "            # variance of data-(smoothed+annual+semi)\n",
    "            val2 = getattr(delta_Ylms, csharm)\n",
    "            val2[l,m] = np.sqrt(np.sum(smth['noise']**2)/nsmth)\n",
    "      \n",
    "# calculate degree amplitude of error harmonics\n",
    "delta_Ylms = delta_Ylms.convolve(dfactor*wt)\n",
    "delta_amplitude = degree_amplitude(delta_Ylms.clm, delta_Ylms.slm)\n",
    "           \n",
    "# convolve delta harmonics with degree dependent factors\n",
    "# smooth harmonics and convert to output units\n",
    "YLM2 = delta_Ylms.power(2.0).scale(1.0/nsmth)\n",
    "# Calculate fourier coefficients\n",
    "d_cos = np.zeros((MMAX+1,nlat))# [m,th]\n",
    "d_sin = np.zeros((MMAX+1,nlat))# [m,th]\n",
    "# Calculating delta spatial values\n",
    "for k in range(0,nlat):\n",
    "    # summation over all spherical harmonic degrees\n",
    "    d_cos[:,k] = np.sum(PLM2[:,:,k]*YLM2.clm, axis=0)\n",
    "    d_sin[:,k] = np.sum(PLM2[:,:,k]*YLM2.slm, axis=0)\n",
    "\n",
    "# Multiplying by c/s(phi#m) to get spatial maps (lon,lat)\n",
    "grid.data = np.sqrt(np.dot(ccos.T,d_cos) + np.dot(ssin.T,d_sin)).T\n",
    "grid.mask = np.zeros_like(grid.data, dtype=bool)"
   ]
  },
  {
   "cell_type": "markdown",
   "metadata": {},
   "source": [
    "### Create plot of GRACE/GRACE-FO degree spectra"
   ]
  },
  {
   "cell_type": "code",
   "execution_count": null,
   "metadata": {},
   "outputs": [],
   "source": [
    "fig, ax1 = plt.subplots(num=1, nrows=1, ncols=1)\n",
    "ax1.plot(delta_Ylms.l[1:], delta_amplitude[1:], color='red', linewidth=2)\n",
    "ax1.set_xlabel('Degree [l]', fontsize=13)\n",
    "ax1.set_ylabel('{0} [{1}]'.format(unit_name,unit_label), fontsize=13)\n",
    "ax1.set_yscale('log')\n",
    "ax1.set_xlim(0, LMAX)\n",
    "ax1.grid(True, which='both', linestyle='-', color='grey')\n",
    "ax1.set_title('GRACE/GRACE-FO Error Degree Amplitude')\n",
    "plt.show()"
   ]
  },
  {
   "cell_type": "markdown",
   "metadata": {},
   "source": [
    "### Create GRACE/GRACE-FO error map"
   ]
  },
  {
   "cell_type": "code",
   "execution_count": null,
   "metadata": {},
   "outputs": [],
   "source": [
    "# slider for the plot min and max for normalization\n",
    "vmax = np.ceil(np.max(grid.data)).astype(np.int64)\n",
    "cmap = gravity_toolkit.tools.colormap(vmin=0, vmax=vmax)\n",
    "# display widgets for setting GRACE/GRACE-FO plot parameters\n",
    "ipywidgets.VBox([cmap.range,cmap.step,cmap.name,cmap.reverse])"
   ]
  },
  {
   "cell_type": "code",
   "execution_count": null,
   "metadata": {},
   "outputs": [],
   "source": [
    "fig, ax2 = plt.subplots(num=2, nrows=1, ncols=1, figsize=(10.375,6.625),\n",
    "    subplot_kw=dict(projection=ccrs.PlateCarree()))\n",
    "\n",
    "# levels and normalization for plot range\n",
    "im = ax2.imshow(grid.data, interpolation='nearest',\n",
    "    norm=cmap.norm, cmap=cmap.value, transform=ccrs.PlateCarree(),\n",
    "    extent=grid.extent, origin='upper')\n",
    "ax2.coastlines('50m')\n",
    "\n",
    "# Add horizontal colorbar and adjust size\n",
    "# extend = add extension triangles to upper and lower bounds\n",
    "# options: neither, both, min, max\n",
    "# pad = distance from main plot axis\n",
    "# shrink = percent size of colorbar\n",
    "# aspect = lengthXwidth aspect of colorbar\n",
    "cbar = plt.colorbar(im, ax=ax2, extend='both', extendfrac=0.0375,\n",
    "    orientation='horizontal', pad=0.025, shrink=0.85,\n",
    "    aspect=22, drawedges=False)\n",
    "# rasterized colorbar to remove lines\n",
    "cbar.solids.set_rasterized(True)\n",
    "# Add label to the colorbar\n",
    "cbar.ax.set_xlabel('{0} [{1}]'.format(unit_name,unit_label),\n",
    "    labelpad=10, fontsize=24)\n",
    "# Set the tick levels for the colorbar\n",
    "cbar.set_ticks(cmap.levels)\n",
    "cbar.set_ticklabels(cmap.label)\n",
    "# ticks lines all the way across\n",
    "cbar.ax.tick_params(which='both', width=1, length=26, labelsize=24,\n",
    "    direction='in')\n",
    "    \n",
    "# stronger linewidth on frame\n",
    "ax2.spines['geo'].set_linewidth(2.0)\n",
    "ax2.spines['geo'].set_capstyle('projecting')\n",
    "# adjust subplot within figure\n",
    "fig.patch.set_facecolor('white')\n",
    "fig.subplots_adjust(left=0.02,right=0.98,bottom=0.05,top=0.98)\n",
    "plt.show()"
   ]
  }
 ],
 "metadata": {
  "interpreter": {
   "hash": "31f2aee4e71d21fbe5cf8b01ff0e069b9275f58929596ceb00d14d90e3e16cd6"
  },
  "kernelspec": {
   "display_name": "Python 3.8.10 64-bit",
   "name": "python3"
  },
  "language_info": {
   "codemirror_mode": {
    "name": "ipython",
    "version": 3
   },
   "file_extension": ".py",
   "mimetype": "text/x-python",
   "name": "python",
   "nbconvert_exporter": "python",
   "pygments_lexer": "ipython3",
   "version": "3.10.4"
  }
 },
 "nbformat": 4,
 "nbformat_minor": 4
}
